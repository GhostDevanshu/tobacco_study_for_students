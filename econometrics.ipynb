{
 "cells": [
  {
   "cell_type": "code",
   "execution_count": 3,
   "metadata": {},
   "outputs": [
    {
     "name": "stdout",
     "output_type": "stream",
     "text": [
      "Collecting xlrd\n",
      "  Downloading xlrd-2.0.1-py2.py3-none-any.whl.metadata (3.4 kB)\n",
      "Downloading xlrd-2.0.1-py2.py3-none-any.whl (96 kB)\n",
      "\u001b[2K   \u001b[90m━━━━━━━━━━━━━━━━━━━━━━━━━━━━━━━━━━━━━━━━\u001b[0m \u001b[32m96.5/96.5 kB\u001b[0m \u001b[31m3.4 MB/s\u001b[0m eta \u001b[36m0:00:00\u001b[0m\n",
      "\u001b[?25hInstalling collected packages: xlrd\n",
      "Successfully installed xlrd-2.0.1\n"
     ]
    }
   ],
   "source": [
    "!pip install xlrd"
   ]
  },
  {
   "cell_type": "code",
   "execution_count": 4,
   "metadata": {},
   "outputs": [],
   "source": [
    "import numpy as np\n",
    "import pandas as pd\n",
    "import matplotlib.pyplot as plt"
   ]
  },
  {
   "cell_type": "code",
   "execution_count": 13,
   "metadata": {},
   "outputs": [],
   "source": [
    "df = pd.read_excel(\"GYTS4.xls\",sheet_name=\"Sheet1\")\n",
    "df_copy = df.copy()"
   ]
  },
  {
   "cell_type": "code",
   "execution_count": 11,
   "metadata": {},
   "outputs": [
    {
     "name": "stdout",
     "output_type": "stream",
     "text": [
      "Students who saw anyone smoking inside the  school building or outside school property (%)\n",
      "Students who noticed anti-tobacco messages anywhere in past 30 days    (%)\n",
      "Students who noticed anti-tobacco messages in mass media in past 30 days    (%)\n",
      "Students who noticed anti-tobacco messages at sporting,  fairs, concerts, community events or social gatherings in past 30 days   (%)\n",
      "Students who noticed health warnings on any tobacco product/cigarette packages in past 30 days       (%)\n",
      "Students who saw tobacco advertisements anywhere in past 30 days  (%)\n",
      "Students who saw anyone using tobacco on mass media in past 30 days  (%)\n",
      "Students who noticed cigarette advertisements/promotions at point of sale in past 30 days (%)\n",
      "Students who were taught in class about harmful effects of tobacco use during past 12 months (%)\n",
      "Students who thought it is difficult to quit once someone starts smoking tobacco (%)\n",
      "Students who thought other people’s tobacco smoking is harmful to them (%)\n",
      "Students who favoured ban on smoking inside enclosed public places (%)\n",
      "Students who favoured ban on smoking at outdoor public places (%)\n"
     ]
    }
   ],
   "source": [
    "for col in df.columns.tolist():\n",
    "    if \"Students\" in col:\n",
    "        print(col)"
   ]
  }
 ],
 "metadata": {
  "kernelspec": {
   "display_name": "base",
   "language": "python",
   "name": "python3"
  },
  "language_info": {
   "codemirror_mode": {
    "name": "ipython",
    "version": 3
   },
   "file_extension": ".py",
   "mimetype": "text/x-python",
   "name": "python",
   "nbconvert_exporter": "python",
   "pygments_lexer": "ipython3",
   "version": "3.11.8"
  }
 },
 "nbformat": 4,
 "nbformat_minor": 2
}
